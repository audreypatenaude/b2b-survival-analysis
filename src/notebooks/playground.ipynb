{
 "cells": [
  {
   "cell_type": "markdown",
   "id": "c3036a02",
   "metadata": {},
   "source": [
    "# Numerical Playground\n",
    "\n",
    "This notebook is a playground to facilitate the creation of the app: testing appropriate distributions, data generation methods, visualization routines etc.\n",
    "\n",
    "As such, none of its content is needed to run / understand the app (which is self-contained, and better commented), but we still ship it for people that want to play with some Python functions directly without messing up with the streamlit setup."
   ]
  },
  {
   "cell_type": "markdown",
   "id": "8d40b789",
   "metadata": {},
   "source": [
    "## Data generation\n",
    "\n",
    "Based on our b2b experience, we use a Gamma distribution as the main generating function for won deals."
   ]
  },
  {
   "cell_type": "code",
   "execution_count": 1,
   "id": "84558261",
   "metadata": {},
   "outputs": [],
   "source": [
    "import numpy as np\n",
    "import matplotlib.pyplot as plt\n",
    "import scipy.special as sps "
   ]
  },
  {
   "cell_type": "markdown",
   "id": "c1ca02d1",
   "metadata": {},
   "source": [
    "_Set some test parameters, print out descriptive stats and plot the empirical and theoretical dist_"
   ]
  },
  {
   "cell_type": "code",
   "execution_count": 2,
   "id": "44449d9a",
   "metadata": {},
   "outputs": [
    {
     "name": "stdout",
     "output_type": "stream",
     "text": [
      "\n",
      "Product: my_product\n",
      "Mean 85.9, Median 71.4, Sum 85878.0, Max 394.8\n"
     ]
    }
   ],
   "source": [
    "def get_deal_distribution_by_product(\n",
    "    products: list,\n",
    "    shape_min: float,\n",
    "    shape_max: float,\n",
    "    scale_min: float,\n",
    "    scale_max: float,\n",
    "    n_deals: int = 1000,\n",
    "    is_debug: bool = False\n",
    "):\n",
    "    prod2deals = {}\n",
    "    shapes = np.random.uniform(shape_min, shape_max, len(products))\n",
    "    scales = np.random.uniform(scale_min, scale_max, len(products))\n",
    "    for idx, p in enumerate(products):\n",
    "        s = np.random.gamma(shapes[idx], scales[idx], n_deals)\n",
    "        prod2deals[p] = s\n",
    "        if is_debug:\n",
    "            print(\"\\nProduct: {}\".format(p))\n",
    "            print(\"Mean {:.1f}, Median {:.1f}, Sum {:.1f}, Max {:.1f}\".format(\n",
    "                np.mean(s),\n",
    "                np.median(s),\n",
    "                np.sum(s),\n",
    "                max(s)\n",
    "            ))\n",
    "\n",
    "    return prod2deals, shapes, scales\n",
    "\n",
    "products = [\"my_product\"]\n",
    "prod2deals, shapes, scales = get_deal_distribution_by_product(\n",
    "    products, \n",
    "    shape_min=1.8, \n",
    "    shape_max=2.1,\n",
    "    scale_min=40.0,\n",
    "    scale_max=50.0, \n",
    "    n_deals=1000, \n",
    "    is_debug=True\n",
    ")"
   ]
  },
  {
   "cell_type": "code",
   "execution_count": 3,
   "id": "4498a2ac",
   "metadata": {},
   "outputs": [],
   "source": [
    "def plot_gamma_with_theoretical(\n",
    "    dist, # array with the distribution\n",
    "    shape: float,\n",
    "    scale: float\n",
    "):\n",
    "    # plot the empirical distribution\n",
    "    count, bins, ignored = plt.hist(dist, 50, alpha=0.2, density=True)\n",
    "    # plot the gamma function\n",
    "    y = bins**(shape-1)*(np.exp(-bins/scale) / (sps.gamma(shape)*scale**shape))\n",
    "    plt.plot(bins, y, linewidth=2, color='r')  \n",
    "    plt.show()\n",
    "\n",
    "    return"
   ]
  },
  {
   "cell_type": "code",
   "execution_count": 4,
   "id": "e0a5377d",
   "metadata": {},
   "outputs": [
    {
     "data": {
      "image/png": "[encoded data removed]",
      "text/plain": [
       "<Figure size 432x288 with 1 Axes>"
      ]
     },
     "metadata": {
      "needs_background": "light"
     },
     "output_type": "display_data"
    }
   ],
   "source": [
    "plot_gamma_with_theoretical(prod2deals[products[0]], shapes[0], scales[0])"
   ]
  },
  {
   "cell_type": "markdown",
   "id": "3884c200",
   "metadata": {},
   "source": [
    "_Now do the same, with N products_"
   ]
  },
  {
   "cell_type": "code",
   "execution_count": 5,
   "id": "923c75e9",
   "metadata": {},
   "outputs": [
    {
     "name": "stdout",
     "output_type": "stream",
     "text": [
      "\n",
      "Product: product_0\n",
      "Mean 45.1, Median 31.2, Sum 45086.6, Max 427.3\n",
      "\n",
      "Product: product_1\n",
      "Mean 51.9, Median 37.5, Sum 51878.2, Max 309.0\n",
      "\n",
      "Product: product_2\n",
      "Mean 273.8, Median 247.8, Sum 273849.9, Max 1405.2\n"
     ]
    }
   ],
   "source": [
    "products = [\"product_{}\".format(_) for _ in range(3)]\n",
    "prod2deals, shapes, scales = get_deal_distribution_by_product(\n",
    "    products, \n",
    "    shape_min=0.8, \n",
    "    shape_max=3.0,\n",
    "    scale_min=40.0,\n",
    "    scale_max=100.0, \n",
    "    n_deals=1000, \n",
    "    is_debug=True\n",
    ")"
   ]
  },
  {
   "cell_type": "code",
   "execution_count": 6,
   "id": "9010d293",
   "metadata": {},
   "outputs": [
    {
     "data": {
      "image/png": "[encoded data removed]",
      "text/plain": [
       "<Figure size 432x288 with 1 Axes>"
      ]
     },
     "metadata": {
      "needs_background": "light"
     },
     "output_type": "display_data"
    }
   ],
   "source": [
    "for p, dist in prod2deals.items():\n",
    "    plt.hist(dist, 50, alpha=0.1, density=True, label=p) \n",
    "\n",
    "plt.legend()\n",
    "plt.show()"
   ]
  },
  {
   "cell_type": "markdown",
   "id": "a4d2734b",
   "metadata": {},
   "source": [
    "_As an example, we dump the simulated deals in a file, which can be used for further analysis_"
   ]
  },
  {
   "cell_type": "code",
   "execution_count": 7,
   "id": "939d8046",
   "metadata": {},
   "outputs": [],
   "source": [
    "import csv\n",
    "\n",
    "#with open('deals_data.csv', 'w', newline='') as csvfile:\n",
    "    #writer = csv.DictWriter(csvfile, fieldnames=['product', 'deal_size'])\n",
    "    #writer.writeheader()\n",
    "    #for p, dist in prod2deals.items():\n",
    "        #for d in dist.tolist():\n",
    "            #writer.writerow({'product': p, 'deal_size': d})"
   ]
  },
  {
   "cell_type": "markdown",
   "id": "22e9a3b2",
   "metadata": {},
   "source": [
    "## Simulating a future quarter / time window\n",
    "\n",
    "Based on the empirical distribution, how much money can we expect to make in the next quarter (or whatever time period)? \n",
    "\n",
    "This seemingly simple question has a seemingly simple answer: number of deals we close * mean deal value. As we see below, however, the more skewed the deal distribution, the harder it is to \"narrow down\" which, among the possible futures, is the one likely to materialize.\n",
    "\n",
    "In particular, point-estimates may communicate a false sense of confidence in our predictions."
   ]
  },
  {
   "cell_type": "code",
   "execution_count": 8,
   "id": "f6653289",
   "metadata": {},
   "outputs": [],
   "source": [
    "def simulate_future_revenues(\n",
    "    dist, # historical distribution\n",
    "    deals_we_close: int = 10, # deal we expect to close\n",
    "    possible_futures: int = 100000, # future to simulate\n",
    "    with_plot: bool=True,\n",
    "    is_debug: bool=True\n",
    "):\n",
    "    # Store sum in a list. Repeat k times. Calculate mean and std of list.\n",
    "    s = [sum(np.random.choice(dist, size=deals_we_close, replace=True)) for n in range(possible_futures)]\n",
    "    if is_debug:\n",
    "        print(\"Mean {:.1f}, Median {:.1f}, Sum {:.1f}, Std {:.1f}\".format(\n",
    "                    np.mean(s),\n",
    "                    np.median(s),\n",
    "                    np.sum(s),\n",
    "                    np.std(s)\n",
    "                ))\n",
    "    \n",
    "    if with_plot:\n",
    "        plt.hist(s, 50, alpha=0.5, density=True) \n",
    "        plt.show()\n",
    "    \n",
    "    return"
   ]
  },
  {
   "cell_type": "code",
   "execution_count": 9,
   "id": "f1dfb0f4",
   "metadata": {},
   "outputs": [
    {
     "name": "stdout",
     "output_type": "stream",
     "text": [
      "Mean 451.7, Median 434.9, Sum 45165109.9, Std 147.0\n"
     ]
    },
    {
     "data": {
      "image/png": "[encoded data removed]",
      "text/plain": [
       "<Figure size 432x288 with 1 Axes>"
      ]
     },
     "metadata": {
      "needs_background": "light"
     },
     "output_type": "display_data"
    }
   ],
   "source": [
    "simulate_future_revenues(prod2deals[\"product_0\"])"
   ]
  },
  {
   "cell_type": "code",
   "execution_count": 10,
   "id": "cffcb85a",
   "metadata": {},
   "outputs": [
    {
     "name": "stdout",
     "output_type": "stream",
     "text": [
      "\n",
      "Product: product_0\n",
      "Mean 19.8, Median 2.9, Sum 19783.2, Max 364.3\n",
      "Mean 197.8, Median 175.4, Sum 19775505.1, Std 124.6\n"
     ]
    },
    {
     "data": {
      "image/png": "[encoded data removed]",
      "text/plain": [
       "<Figure size 432x288 with 1 Axes>"
      ]
     },
     "metadata": {
      "needs_background": "light"
     },
     "output_type": "display_data"
    }
   ],
   "source": [
    "# play around with the distribution to see how future scenarios will change\n",
    "prod2deals, shapes, scales = get_deal_distribution_by_product(\n",
    "    [\"product_0\"], \n",
    "    shape_min=0.1, \n",
    "    shape_max=0.6,\n",
    "    scale_min=90.0,\n",
    "    scale_max=100.0, \n",
    "    n_deals=1000, \n",
    "    is_debug=True\n",
    ")\n",
    "\n",
    "simulate_future_revenues(prod2deals[\"product_0\"])"
   ]
  },
  {
   "cell_type": "markdown",
   "id": "db10cd5c",
   "metadata": {},
   "source": [
    "## Survival analysis\n",
    "\n",
    "When considering desired outcomes in some relatively distant future - for example, closing deals in B2B -, a common trick is establishing a threshold of interest, say, 3 months, and then calculate / predict the closing rate at 3 months after the SQL was created. \n",
    "\n",
    "By turning the problem into a binary classification with a fixed time horizon, however, we are now:\n",
    "\n",
    "* incapable of making considerations for deal that are younger than the threshold. Should I wait two quarters to know how THIS quarter is going?\n",
    "* incapable of adapting our closing estimates as deals age: what does deal age tell us about closing probability?\n",
    "\n",
    "To overcome this limitation, we will use a different approach here, borrowed by what is called survival analysis (SA). In SA, the typical questions we want to answer are:\n",
    "\n",
    "* are people that took treament A vs B dying faster? (We certainly would like to know as fast as possible the answer to this!)\n",
    "* given somebody survived 5 years after getting diagnosed X, how likely is he/she to be alive in the next 3? (We certainly would like to incorporate the knowledge we have at years 5 into our current estimate)\n",
    "\n",
    "SA, like deal closing, has to deal with an event in the future that may occur at any point in time: at any given moment, we only know what happened to deals / patients with one outcome, but have no idea about the others (NOTE: the similarity breaks down as everybody dies eventually, but not every deal closes, but the general idea will serve as a good metaphor to the introductory treatment we propose here)."
   ]
  },
  {
   "cell_type": "code",
   "execution_count": 12,
   "id": "317b7db0",
   "metadata": {},
   "outputs": [],
   "source": [
    "# first we import the lifelines package\n",
    "from lifelines.utils import datetimes_to_durations\n",
    "from lifelines import KaplanMeierFitter\n",
    "import pandas as pd"
   ]
  },
  {
   "cell_type": "markdown",
   "id": "cab7ec8c",
   "metadata": {},
   "source": [
    "Read the simulated data in with pandas and plot survival curve"
   ]
  },
  {
   "cell_type": "code",
   "execution_count": 20,
   "id": "6e0f6d02",
   "metadata": {},
   "outputs": [
    {
     "data": {
      "text/html": [
       "<div>\n",
       "<style scoped>\n",
       "    .dataframe tbody tr th:only-of-type {\n",
       "        vertical-align: middle;\n",
       "    }\n",
       "\n",
       "    .dataframe tbody tr th {\n",
       "        vertical-align: top;\n",
       "    }\n",
       "\n",
       "    .dataframe thead th {\n",
       "        text-align: right;\n",
       "    }\n",
       "</style>\n",
       "<table border=\"1\" class=\"dataframe\">\n",
       "  <thead>\n",
       "    <tr style=\"text-align: right;\">\n",
       "      <th></th>\n",
       "      <th>ProductId</th>\n",
       "      <th>SQLDate</th>\n",
       "      <th>WonDate</th>\n",
       "    </tr>\n",
       "  </thead>\n",
       "  <tbody>\n",
       "    <tr>\n",
       "      <th>0</th>\n",
       "      <td>1</td>\n",
       "      <td>2020-03-13</td>\n",
       "      <td>2020-03-22</td>\n",
       "    </tr>\n",
       "    <tr>\n",
       "      <th>1</th>\n",
       "      <td>2</td>\n",
       "      <td>2020-06-02</td>\n",
       "      <td>2021-03-03</td>\n",
       "    </tr>\n",
       "    <tr>\n",
       "      <th>2</th>\n",
       "      <td>1</td>\n",
       "      <td>2020-04-23</td>\n",
       "      <td>2021-08-18</td>\n",
       "    </tr>\n",
       "    <tr>\n",
       "      <th>3</th>\n",
       "      <td>2</td>\n",
       "      <td>2020-04-23</td>\n",
       "      <td>2020-11-04</td>\n",
       "    </tr>\n",
       "    <tr>\n",
       "      <th>4</th>\n",
       "      <td>1</td>\n",
       "      <td>2020-05-26</td>\n",
       "      <td>NaT</td>\n",
       "    </tr>\n",
       "  </tbody>\n",
       "</table>\n",
       "</div>"
      ],
      "text/plain": [
       "   ProductId    SQLDate    WonDate\n",
       "0          1 2020-03-13 2020-03-22\n",
       "1          2 2020-06-02 2021-03-03\n",
       "2          1 2020-04-23 2021-08-18\n",
       "3          2 2020-04-23 2020-11-04\n",
       "4          1 2020-05-26        NaT"
      ]
     },
     "execution_count": 20,
     "metadata": {},
     "output_type": "execute_result"
    }
   ],
   "source": [
    "survival_df = pd.read_csv('../app/survival_data.csv')\n",
    "survival_df[\"SQLDate\"] = pd.to_datetime(survival_df[\"SQLDate\"])\n",
    "survival_df[\"WonDate\"] = pd.to_datetime(survival_df[\"WonDate\"])\n",
    "survival_df.head()"
   ]
  },
  {
   "cell_type": "code",
   "execution_count": 25,
   "id": "735fcaa5",
   "metadata": {},
   "outputs": [
    {
     "data": {
      "text/plain": [
       "ProductId             int64\n",
       "SQLDate      datetime64[ns]\n",
       "WonDate      datetime64[ns]\n",
       "dtype: object"
      ]
     },
     "execution_count": 25,
     "metadata": {},
     "output_type": "execute_result"
    }
   ],
   "source": [
    "survival_df.dtypes"
   ]
  },
  {
   "cell_type": "code",
   "execution_count": 40,
   "id": "2243da82",
   "metadata": {},
   "outputs": [
    {
     "name": "stdout",
     "output_type": "stream",
     "text": [
      "Products detected: [1, 2]\n"
     ]
    },
    {
     "data": {
      "image/png": "[encoded data removed]",
      "text/plain": [
       "<Figure size 1152x648 with 1 Axes>"
      ]
     },
     "metadata": {
      "needs_background": "light"
     },
     "output_type": "display_data"
    }
   ],
   "source": [
    "def product_survival_function(\n",
    "    df\n",
    "):\n",
    "    all_funcs = {}\n",
    "    # setup the plot\n",
    "    f = plt.figure(figsize=(16,9))\n",
    "    ax = f.add_subplot(111)\n",
    "    products = list(df['ProductId'].unique())\n",
    "    print(\"Products detected: {}\".format(products))\n",
    "    # for each product build an estimate\n",
    "    for product in products:\n",
    "        cnt_df = df.loc[df['ProductId'] == product]\n",
    "        T, E = datetimes_to_durations(cnt_df[\"SQLDate\"], cnt_df[\"WonDate\"], freq='W')\n",
    "        kmf = KaplanMeierFitter().fit(T, E, label='Prod {}'.format(product))\n",
    "        kmf.plot_survival_function(ax=ax)\n",
    "        all_funcs[product] = { \n",
    "            'val': [_[0] for _ in kmf.survival_function_.values],\n",
    "            'CI': kmf.confidence_interval_.values\n",
    "        }\n",
    "\n",
    "    return all_funcs\n",
    "\n",
    "\n",
    "sfunctions = product_survival_function(\n",
    "    survival_df\n",
    ")"
   ]
  },
  {
   "cell_type": "markdown",
   "id": "ac0da0d1",
   "metadata": {},
   "source": [
    "Since we are not really talking about survival _per se_, but conversion, it is more intuitive to display the closing \"going up\" as time goes on..."
   ]
  },
  {
   "cell_type": "code",
   "execution_count": 47,
   "id": "9aed38d0",
   "metadata": {},
   "outputs": [
    {
     "data": {
      "image/png": "[encoded data removed]",
      "text/plain": [
       "<Figure size 1152x648 with 1 Axes>"
      ]
     },
     "metadata": {
      "needs_background": "light"
     },
     "output_type": "display_data"
    }
   ],
   "source": [
    "def plot_closing_rate_from_survival_values(\n",
    "    survival_values \n",
    "):\n",
    "    # setup the plot\n",
    "    f = plt.figure(figsize=(16,9))\n",
    "    ax = f.add_subplot(111)\n",
    "    # for each product plot the line\n",
    "    for product in survival_values.keys():\n",
    "        y = [1 - _ for _ in survival_values[product]['val']]\n",
    "        y_min = [1 - _[0] for _ in survival_values[product]['CI']]\n",
    "        y_max = [1 - _[1] for _ in survival_values[product]['CI']]\n",
    "        x = range(0, len(y))\n",
    "        ax.plot(x, y, label='Prod {}'.format(product))\n",
    "        ax.fill_between(x, y_min, y_max, alpha=.1)\n",
    "    # display plot\n",
    "    plt.legend()\n",
    "    plt.show\n",
    "    \n",
    "    \n",
    "    return\n",
    "\n",
    "\n",
    "plot_closing_rate_from_survival_values(sfunctions)"
   ]
  },
  {
   "cell_type": "code",
   "execution_count": null,
   "id": "3081c496",
   "metadata": {},
   "outputs": [],
   "source": []
  }
 ],
 "metadata": {
  "kernelspec": {
   "display_name": "Python 3 (ipykernel)",
   "language": "python",
   "name": "python3"
  },
  "language_info": {
   "codemirror_mode": {
    "name": "ipython",
    "version": 3
   },
   "file_extension": ".py",
   "mimetype": "text/x-python",
   "name": "python",
   "nbconvert_exporter": "python",
   "pygments_lexer": "ipython3",
   "version": "3.8.8"
  }
 },
 "nbformat": 4,
 "nbformat_minor": 5
}
