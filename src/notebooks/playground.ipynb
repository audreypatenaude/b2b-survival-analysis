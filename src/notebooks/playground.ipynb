{
 "cells": [
  {
   "cell_type": "markdown",
   "id": "c3036a02",
   "metadata": {},
   "source": [
    "# Numerical Playground\n",
    "\n",
    "This notebook is a playground to facilitate the creation of the app: testing appropriate distributions, data generation methods, visualization routines etc.\n",
    "\n",
    "As such, none of its content is needed to run / understand the app (which is self-contained, and better commented), but we still ship it for people that want to play with some Python functions directly without messing up with the streamlit setup."
   ]
  },
  {
   "cell_type": "markdown",
   "id": "8d40b789",
   "metadata": {},
   "source": [
    "## Data generation\n",
    "\n",
    "Based on our b2b experience, we use a Gamma distribution as the main generating function for won deals."
   ]
  },
  {
   "cell_type": "code",
   "execution_count": 1,
   "id": "84558261",
   "metadata": {},
   "outputs": [],
   "source": [
    "import numpy as np\n",
    "import matplotlib.pyplot as plt\n",
    "import scipy.special as sps "
   ]
  },
  {
   "cell_type": "markdown",
   "id": "c1ca02d1",
   "metadata": {},
   "source": [
    "_Set some test parameters, print out descriptive stats and plot the empirical and theoretical dist_"
   ]
  },
  {
   "cell_type": "code",
   "execution_count": 2,
   "id": "44449d9a",
   "metadata": {},
   "outputs": [
    {
     "name": "stdout",
     "output_type": "stream",
     "text": [
      "\n",
      "Product: my_product\n",
      "Mean 83.2, Median 67.7, Sum 83155.1, Max 395.1\n"
     ]
    }
   ],
   "source": [
    "def get_deal_distribution_by_product(\n",
    "    products: list,\n",
    "    shape_min: float,\n",
    "    shape_max: float,\n",
    "    scale_min: float,\n",
    "    scale_max: float,\n",
    "    n_deals: int = 1000,\n",
    "    is_debug: bool = False\n",
    "):\n",
    "    prod2deals = {}\n",
    "    shapes = np.random.uniform(shape_min, shape_max, len(products))\n",
    "    scales = np.random.uniform(scale_min, scale_max, len(products))\n",
    "    for idx, p in enumerate(products):\n",
    "        s = np.random.gamma(shapes[idx], scales[idx], n_deals)\n",
    "        prod2deals[p] = s\n",
    "        if is_debug:\n",
    "            print(\"\\nProduct: {}\".format(p))\n",
    "            print(\"Mean {:.1f}, Median {:.1f}, Sum {:.1f}, Max {:.1f}\".format(\n",
    "                np.mean(s),\n",
    "                np.median(s),\n",
    "                np.sum(s),\n",
    "                max(s)\n",
    "            ))\n",
    "\n",
    "    return prod2deals, shapes, scales\n",
    "\n",
    "products = [\"my_product\"]\n",
    "prod2deals, shapes, scales = get_deal_distribution_by_product(\n",
    "    products, \n",
    "    shape_min=1.8, \n",
    "    shape_max=2.1,\n",
    "    scale_min=40.0,\n",
    "    scale_max=50.0, \n",
    "    n_deals=1000, \n",
    "    is_debug=True\n",
    ")"
   ]
  },
  {
   "cell_type": "code",
   "execution_count": 3,
   "id": "4498a2ac",
   "metadata": {},
   "outputs": [],
   "source": [
    "def plot_gamma_with_theoretical(\n",
    "    dist, # array with the distribution\n",
    "    shape: float,\n",
    "    scale: float\n",
    "):\n",
    "    # plot the empirical distribution\n",
    "    count, bins, ignored = plt.hist(dist, 50, alpha=0.2, density=True)\n",
    "    # plot the gamma function\n",
    "    y = bins**(shape-1)*(np.exp(-bins/scale) / (sps.gamma(shape)*scale**shape))\n",
    "    plt.plot(bins, y, linewidth=2, color='r')  \n",
    "    plt.show()\n",
    "\n",
    "    return"
   ]
  },
  {
   "cell_type": "code",
   "execution_count": 4,
   "id": "e0a5377d",
   "metadata": {},
   "outputs": [
    {
     "data": {
      "image/png": "[encoded data removed]",
      "text/plain": [
       "<Figure size 432x288 with 1 Axes>"
      ]
     },
     "metadata": {
      "needs_background": "light"
     },
     "output_type": "display_data"
    }
   ],
   "source": [
    "plot_gamma_with_theoretical(prod2deals[products[0]], shapes[0], scales[0])"
   ]
  },
  {
   "cell_type": "markdown",
   "id": "3884c200",
   "metadata": {},
   "source": [
    "_Now do the same, with N products_"
   ]
  },
  {
   "cell_type": "code",
   "execution_count": 65,
   "id": "923c75e9",
   "metadata": {},
   "outputs": [
    {
     "name": "stdout",
     "output_type": "stream",
     "text": [
      "\n",
      "Product: product_0\n",
      "Mean 82.6, Median 62.0, Sum 82646.9, Max 478.5\n",
      "\n",
      "Product: product_1\n",
      "Mean 139.7, Median 124.2, Sum 139716.5, Max 542.7\n",
      "\n",
      "Product: product_2\n",
      "Mean 200.7, Median 177.1, Sum 200699.9, Max 803.6\n"
     ]
    }
   ],
   "source": [
    "products = [\"product_{}\".format(_) for _ in range(3)]\n",
    "prod2deals, shapes, scales = get_deal_distribution_by_product(\n",
    "    products, \n",
    "    shape_min=0.8, \n",
    "    shape_max=3.0,\n",
    "    scale_min=40.0,\n",
    "    scale_max=100.0, \n",
    "    n_deals=1000, \n",
    "    is_debug=True\n",
    ")"
   ]
  },
  {
   "cell_type": "code",
   "execution_count": 66,
   "id": "9010d293",
   "metadata": {},
   "outputs": [
    {
     "data": {
      "image/png": "[encoded data removed]",
      "text/plain": [
       "<Figure size 432x288 with 1 Axes>"
      ]
     },
     "metadata": {
      "needs_background": "light"
     },
     "output_type": "display_data"
    }
   ],
   "source": [
    "for p, dist in prod2deals.items():\n",
    "    plt.hist(dist, 50, alpha=0.1, density=True, label=p) \n",
    "\n",
    "plt.legend()\n",
    "plt.show()"
   ]
  },
  {
   "cell_type": "markdown",
   "id": "a4d2734b",
   "metadata": {},
   "source": [
    "_As an example, we dump the simulated deals in a file, which can be used for further analysis_"
   ]
  },
  {
   "cell_type": "code",
   "execution_count": 67,
   "id": "939d8046",
   "metadata": {},
   "outputs": [],
   "source": [
    "import json\n",
    "\n",
    "with open('deals_data.json', 'w') as f:\n",
    "    # note: need to dump ndarray to list\n",
    "    json.dump({p: dist.tolist() for p, dist in prod2deals.items()}, f)"
   ]
  },
  {
   "cell_type": "markdown",
   "id": "22e9a3b2",
   "metadata": {},
   "source": [
    "## Simulating a future quarter / time window\n",
    "\n",
    "Based on the empirical distribution, how much money can we expect to make in the next quarter (or whatever time period)? \n",
    "\n",
    "This seemingly simple question has a seemingly simple answer: number of deals we close * mean deal value. As we see below, however, the more skewed the deal distribution, the harder it is to \"narrow down\" which, among the possible futures, is the one likely to materialize.\n",
    "\n",
    "In particular, point-estimates may communicate a false sense of confidence in our predictions."
   ]
  },
  {
   "cell_type": "code",
   "execution_count": 68,
   "id": "f6653289",
   "metadata": {},
   "outputs": [],
   "source": [
    "def simulate_future_revenues(\n",
    "    dist, # historical distribution\n",
    "    deals_we_close: int = 10, # deal we expect to close\n",
    "    possible_futures: int = 100000, # future to simulate\n",
    "    with_plot: bool=True,\n",
    "    is_debug: bool=True\n",
    "):\n",
    "    # Store sum in a list. Repeat k times. Calculate mean and std of list.\n",
    "    s = [sum(np.random.choice(dist, size=deals_we_close, replace=True)) for n in range(possible_futures)]\n",
    "    if is_debug:\n",
    "        print(\"Mean {:.1f}, Median {:.1f}, Sum {:.1f}, Std {:.1f}\".format(\n",
    "                    np.mean(s),\n",
    "                    np.median(s),\n",
    "                    np.sum(s),\n",
    "                    np.std(s)\n",
    "                ))\n",
    "    \n",
    "    if with_plot:\n",
    "        plt.hist(s, 50, alpha=0.5, density=True) \n",
    "        plt.show()\n",
    "    \n",
    "    return"
   ]
  },
  {
   "cell_type": "code",
   "execution_count": 69,
   "id": "f1dfb0f4",
   "metadata": {},
   "outputs": [
    {
     "name": "stdout",
     "output_type": "stream",
     "text": [
      "Mean 826.3, Median 806.6, Sum 82628733.0, Std 227.1\n"
     ]
    },
    {
     "data": {
      "image/png": "[encoded data removed]",
      "text/plain": [
       "<Figure size 432x288 with 1 Axes>"
      ]
     },
     "metadata": {
      "needs_background": "light"
     },
     "output_type": "display_data"
    }
   ],
   "source": [
    "simulate_future_revenues(prod2deals[\"product_0\"])"
   ]
  },
  {
   "cell_type": "code",
   "execution_count": 70,
   "id": "cffcb85a",
   "metadata": {},
   "outputs": [
    {
     "name": "stdout",
     "output_type": "stream",
     "text": [
      "\n",
      "Product: product_0\n",
      "Mean 50.4, Median 24.9, Sum 50383.2, Max 559.7\n",
      "Mean 503.1, Median 472.2, Sum 50312867.0, Std 217.8\n"
     ]
    },
    {
     "data": {
      "image/png": "[encoded data removed]",
      "text/plain": [
       "<Figure size 432x288 with 1 Axes>"
      ]
     },
     "metadata": {
      "needs_background": "light"
     },
     "output_type": "display_data"
    }
   ],
   "source": [
    "# play around with the distribution to see how future scenarios will change\n",
    "prod2deals, shapes, scales = get_deal_distribution_by_product(\n",
    "    [\"product_0\"], \n",
    "    shape_min=0.1, \n",
    "    shape_max=0.6,\n",
    "    scale_min=90.0,\n",
    "    scale_max=100.0, \n",
    "    n_deals=1000, \n",
    "    is_debug=True\n",
    ")\n",
    "\n",
    "simulate_future_revenues(prod2deals[\"product_0\"])"
   ]
  },
  {
   "cell_type": "code",
   "execution_count": null,
   "id": "a05105a0",
   "metadata": {},
   "outputs": [],
   "source": []
  },
  {
   "cell_type": "code",
   "execution_count": null,
   "id": "317b7db0",
   "metadata": {},
   "outputs": [],
   "source": []
  }
 ],
 "metadata": {
  "kernelspec": {
   "display_name": "Python 3 (ipykernel)",
   "language": "python",
   "name": "python3"
  },
  "language_info": {
   "codemirror_mode": {
    "name": "ipython",
    "version": 3
   },
   "file_extension": ".py",
   "mimetype": "text/x-python",
   "name": "python",
   "nbconvert_exporter": "python",
   "pygments_lexer": "ipython3",
   "version": "3.8.8"
  }
 },
 "nbformat": 4,
 "nbformat_minor": 5
}
